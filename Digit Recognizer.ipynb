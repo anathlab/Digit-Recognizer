{
 "cells": [
  {
   "cell_type": "code",
   "execution_count": 3,
   "metadata": {},
   "outputs": [],
   "source": [
    "import numpy as np\n",
    "import matplotlib.pyplot as plt\n",
    "import seaborn as sns\n",
    "\n",
    "%matplotlib inline\n",
    "sns.set(style='whitegrid', palette='muted', font_scale=1.5)"
   ]
  },
  {
   "cell_type": "code",
   "execution_count": 8,
   "metadata": {},
   "outputs": [],
   "source": [
    "\n",
    "def read_mnist(images_path, labels_path):\n",
    "    import struct\n",
    "    import os\n",
    "    with open(labels_path, 'rb') as p:\n",
    "        magic, n = struct.unpack('>II', p.read(8))\n",
    "        labels = np.fromfile(p, dtype=np.uint8)\n",
    "    with open(images_path, 'rb') as p:\n",
    "        magic, num, rows, cols = struct.unpack(\">IIII\", p.read(16))\n",
    "        images = np.fromfile(p, dtype=np.uint8).reshape(len(labels), 784)\n",
    "\n",
    "    return images, labels\n",
    "\n",
    "\n",
    "def shuffle_data(features, labels, random_seed=42):\n",
    "    assert len(features) == len(labels)\n",
    "\n",
    "    if random_seed:\n",
    "        np.random.seed(random_seed)\n",
    "    idx = np.random.permutation(len(features))\n",
    "    return [a[idx] for a in [features, labels]] \n",
    "\n",
    "def load_data():     \n",
    "    X, y = read_mnist('data/train-images.idx3-ubyte', 'data/train-labels.idx1-ubyte')\n",
    "    X, y = shuffle_data(X, y, random_seed=42)\n",
    "    train_set_x, train_set_y = X[:5000], y[:5000]\n",
    "    test_set_x, test_set_y = X[5000:], y[5000:]\n",
    "    \n",
    "    test_set_x = test_set_x.reshape(test_set_x.shape[0], -1).T\n",
    "    train_set_x = train_set_x.reshape(train_set_x.shape[0], -1).T\n",
    "    train_set_y = train_set_y.reshape((1, train_set_y.shape[0]))\n",
    "    test_set_y = test_set_y.reshape((1, test_set_y.shape[0]))\n",
    "    \n",
    "    return train_set_x, test_set_x, train_set_y, test_set_y"
   ]
  },
  {
   "cell_type": "code",
   "execution_count": 9,
   "metadata": {},
   "outputs": [
    {
     "name": "stdout",
     "output_type": "stream",
     "text": [
      "train set shapes:  (784, 5000) (1, 5000)\n",
      "test set shapes:  (784, 55000) (1, 55000)\n"
     ]
    }
   ],
   "source": [
    "train_set_x, test_set_x, train_set_y, test_set_y = load_data()\n",
    "print('train set shapes: ', train_set_x.shape, train_set_y.shape)\n",
    "print('test set shapes: ', test_set_x.shape, test_set_y.shape)"
   ]
  },
  {
   "cell_type": "code",
   "execution_count": 10,
   "metadata": {},
   "outputs": [],
   "source": [
    "def plot_digit(x_set, y_set, idx):\n",
    "    img = x_set.T[idx].reshape(28,28)\n",
    "    plt.imshow(img, cmap='Greys',  interpolation='nearest')\n",
    "    plt.title('true label: %d' % y_set.T[idx])\n",
    "    plt.show()"
   ]
  },
  {
   "cell_type": "code",
   "execution_count": 11,
   "metadata": {},
   "outputs": [
    {
     "data": {
      "image/png": "[encoded data removed]",
      "text/plain": [
       "<Figure size 432x288 with 1 Axes>"
      ]
     },
     "metadata": {},
     "output_type": "display_data"
    }
   ],
   "source": [
    "plot_digit(train_set_x, train_set_y, idx=1)"
   ]
  },
  {
   "cell_type": "code",
   "execution_count": 12,
   "metadata": {},
   "outputs": [],
   "source": [
    "class Sigmoid:\n",
    "    def __call__(self, z):\n",
    "\n",
    "        return 1/(1+np.exp(-z))\n",
    "    \n",
    "    def prime(self, z):\n",
    "\n",
    "        return self.__call__(z) * (1 - self.__call__(z))"
   ]
  },
  {
   "cell_type": "code",
   "execution_count": 13,
   "metadata": {},
   "outputs": [],
   "source": [
    "def one_hot(Y, n_classes):\n",
    "\n",
    "    onehot = np.zeros((n_classes, Y.shape[1]))\n",
    "    for i in range(0,n_classes):\n",
    "        a = np.where(Y[0]==i)[0]\n",
    "        for j in a:\n",
    "            onehot[i][j] = 1\n",
    "    return onehot"
   ]
  },
  {
   "cell_type": "code",
   "execution_count": 14,
   "metadata": {},
   "outputs": [],
   "source": [
    "def compute_cost(A2, Y):\n",
    "\n",
    "    m = Y.shape[1]\n",
    "\n",
    "    cost = (-1/m) * np.sum(np.sum(Y*np.log(A2) + (1 - Y)*np.log(1 - A2)))\n",
    "    \n",
    "    return cost"
   ]
  },
  {
   "cell_type": "code",
   "execution_count": 15,
   "metadata": {},
   "outputs": [],
   "source": [
    "class Regularization:\n",
    "\n",
    "    def __init__(self, lambda_1, lambda_2):\n",
    "        self.lambda_1 = lambda_1\n",
    "        self.lambda_2 = lambda_2\n",
    "        \n",
    "        \n",
    "    def l1(self, W1, W2, m):\n",
    "        \n",
    "        l1_term = (self.lambda_1/m)*(np.linalg.norm(W1, ord = 1) + np.linalg.norm(W2, ord = 1))\n",
    "        return l1_term\n",
    "\n",
    "    def l1_grad(self, W1, W2, m):\n",
    "        \n",
    "        for i in range(len(W1)):\n",
    "            if W1[i]>0: W1[i]=1\n",
    "            else: W1[i]=-1\n",
    "            if W2[i]>0: W2[i]=1\n",
    "            else: W2[i]=-1\n",
    "  \n",
    "        \n",
    "        l1_grads = {\n",
    "            \"dW1\":(((self.lambda_1)*W1)/m),\n",
    "            \"dW2\":(((self.lambda_1)*W2)/m)\n",
    "        }\n",
    "\n",
    "        return l1_grads\n",
    "\n",
    "\n",
    "    def l2(self, W1, W2, m):\n",
    "\n",
    "        l2_term = (self.lambda_2/(m*2))*(np.square(np.linalg.norm(W1, ord=2)) + np.square(np.linalg.norm(W2, ord=2)))\n",
    "        return l2_term\n",
    "\n",
    "        \n",
    "    def l2_grad(self, W1, W2, m):\n",
    "\n",
    "        l2_grads = {\n",
    "            \"dW1\":(self.lambda_2*W1/m),\n",
    "            \"dW2\":(self.lambda_2*W2/m)\n",
    "        }\n",
    "\n",
    "        return l2_grads"
   ]
  },
  {
   "cell_type": "code",
   "execution_count": 16,
   "metadata": {},
   "outputs": [],
   "source": [
    "class NeuralNetwork:\n",
    "    \n",
    "    def __init__(self, n_features, n_hidden_units, n_classes , learning_rate, reg=Regularization(0.1, 0.2), sigm=Sigmoid()):\n",
    "        self.n_features = n_features\n",
    "        self.n_classes = n_classes\n",
    "        self.learning_rate = learning_rate\n",
    "        self.n_hidden_units = n_hidden_units\n",
    "        self.reg = reg\n",
    "        self.sigm = sigm\n",
    "        self.W1 = None\n",
    "        self.b1 = None\n",
    "        self.W2 = None\n",
    "        self.b2 = None\n",
    "        \n",
    "        self.initialize_parameters()\n",
    "\n",
    "    def initialize_parameters(self):\n",
    "    \n",
    "        np.random.seed(42) \n",
    "        \n",
    "        self.b1 = np.zeros((self.n_hidden_units,1))\n",
    "        self.b2 = np.zeros((self.n_classes,1))\n",
    "        \n",
    "        self.W1 = np.random.normal(0, 0.01,(self.n_hidden_units, self.n_features))\n",
    "        self.W2 = np.random.normal(0, 0.01, (self.n_classes, self.n_hidden_units))\n",
    "\n",
    "\n",
    "    def forward_propagation(self, X):\n",
    "        \n",
    "        Z1 = self.W1.dot(X) + self.b1\n",
    "        A1 = Sigmoid()(Z1)\n",
    "        Z2 = self.W2.dot(A1) + self.b2\n",
    "        A2 = Sigmoid()(Z2)\n",
    "\n",
    "        return {\n",
    "            'Z1': Z1,\n",
    "            'A1': A1,\n",
    "            'Z2': Z2,\n",
    "            'A2': A2\n",
    "        }\n",
    "    \n",
    "    def backward_propagation(self, X, Y, cache):\n",
    "        \n",
    "        m = X.shape[1]\n",
    "        \n",
    "        Z1 = cache [\"Z1\"]\n",
    "        A1 = cache [\"A1\"]\n",
    "        Z2 = cache [\"Z2\"]\n",
    "        A2 = cache [\"A2\"]\n",
    "\n",
    "        m = X.shape[1]\n",
    "       \n",
    "        lambda1 = self.reg.l1(self.W1, self.W2, m)\n",
    "        lambda2 = self.reg.l2(self.W1, self.W2, m)\n",
    "        dZ2 = A2 - Y\n",
    "        dW2 = (1/m) * dZ2.dot(A1.T) + (lambda1/m)*np.sign(self.W2) + (lambda2/m)*self.W2\n",
    "        db2 = (1/m)*np.sum(dZ2, axis = 1, keepdims = True)\n",
    "        dZ1 = self.W2.T.dot(dZ2)*Sigmoid().prime(Z1)\n",
    "        dW1 = (1/m) * dZ1.dot(X.T) + (lambda1/m)*np.sign(self.W1) + (lambda2/m)*self.W1\n",
    "        db1 = (1/m)*np.sum(dZ1, axis = 1, keepdims = True)\n",
    "\n",
    "        return {\n",
    "            'dW1': dW1,\n",
    "            'db1': db1,\n",
    "            'dW2': dW2,\n",
    "            'db2': db2\n",
    "        }\n",
    "\n",
    "    def update_parameters(self, grads):\n",
    "        \n",
    "        dW1 = grads[\"dW1\"]\n",
    "        db1 = grads[\"db1\"]\n",
    "        dW2 = grads[\"dW2\"]\n",
    "        db2 = grads[\"db2\"]\n",
    "        \n",
    "        self.W1 = self.W1 - self.learning_rate*dW1\n",
    "        self.b1 = self.b1 - self.learning_rate*db1\n",
    "        self.W2 = self.W2 - self.learning_rate*dW2\n",
    "        self.b2 = self.b2 - self.learning_rate*db2\n",
    "\n"
   ]
  },
  {
   "cell_type": "code",
   "execution_count": 17,
   "metadata": {},
   "outputs": [],
   "source": [
    "class NNClassifier:\n",
    "\n",
    "    def __init__(self, model, epochs=1000):\n",
    "        self.model = model\n",
    "        self.epochs = epochs\n",
    "        self._cost = []\n",
    "    \n",
    "    def fit(self, X, Y):\n",
    " \n",
    "        self.onehot = one_hot(Y, 10)\n",
    "        self.model.initialize_parameters()\n",
    "        for i in range(self.epochs):\n",
    "            cache = self.model.forward_propagation(X)\n",
    "            A2 = cache[\"A2\"]\n",
    "            self.grads = self.model.backward_propagation(X, self.onehot, cache)\n",
    "            cost = compute_cost(A2, Y)\n",
    "            self._cost.append(cost)\n",
    "            self.model.update_parameters(self.grads)\n",
    "    \n",
    "    def predict(self, X):\n",
    "        \n",
    "        cache = self.model.forward_propagation(X)\n",
    "\n",
    "        return np.argmax(cache['A2'], axis=0).T"
   ]
  },
  {
   "cell_type": "code",
   "execution_count": 18,
   "metadata": {},
   "outputs": [
    {
     "name": "stdout",
     "output_type": "stream",
     "text": [
      "\n"
     ]
    }
   ],
   "source": [
    "def accuracy(pred, labels):\n",
    "    return (np.sum(pred == labels, axis=1) / float(labels.shape[1]))[0]\n",
    "print()"
   ]
  },
  {
   "cell_type": "code",
   "execution_count": 19,
   "metadata": {},
   "outputs": [],
   "source": [
    "NN = NeuralNetwork(784, 30, 10, 0.01)\n",
    "classifier = NNClassifier(NN, 5000)"
   ]
  },
  {
   "cell_type": "code",
   "execution_count": 20,
   "metadata": {},
   "outputs": [],
   "source": [
    "classifier.fit(train_set_x, train_set_y)"
   ]
  },
  {
   "cell_type": "code",
   "execution_count": 21,
   "metadata": {},
   "outputs": [
    {
     "name": "stdout",
     "output_type": "stream",
     "text": [
      "train set accuracy:  0.9524\n",
      "test set accuracy:  0.8615636363636363\n"
     ]
    }
   ],
   "source": [
    "pred_train = classifier.predict(train_set_x)\n",
    "pred_test = classifier.predict(test_set_x)\n",
    "\n",
    "print('train set accuracy: ', accuracy(pred_train, train_set_y))\n",
    "print('test set accuracy: ', accuracy(pred_test, test_set_y))"
   ]
  },
  {
   "cell_type": "code",
   "execution_count": 26,
   "metadata": {},
   "outputs": [
    {
     "data": {
      "image/png": "[encoded data removed]",
      "text/plain": [
       "<Figure size 432x288 with 1 Axes>"
      ]
     },
     "metadata": {},
     "output_type": "display_data"
    }
   ],
   "source": [
    "plot_digit(test_set_x, test_set_y, idx=100)"
   ]
  },
  {
   "cell_type": "code",
   "execution_count": 27,
   "metadata": {},
   "outputs": [
    {
     "name": "stdout",
     "output_type": "stream",
     "text": [
      "The digit is 7\n"
     ]
    }
   ],
   "source": [
    "pred_single = classifier.predict(test_set_x.T[100].reshape(784, 1))\n",
    "print(\"The digit is \" + str(pred_single[0]))"
   ]
  },
  {
   "cell_type": "code",
   "execution_count": 30,
   "metadata": {},
   "outputs": [
    {
     "data": {
      "image/png": "[encoded data removed]",
      "text/plain": [
       "<Figure size 432x288 with 1 Axes>"
      ]
     },
     "metadata": {},
     "output_type": "display_data"
    }
   ],
   "source": [
    "plot_digit(test_set_x, test_set_y, idx=200)"
   ]
  },
  {
   "cell_type": "code",
   "execution_count": 32,
   "metadata": {},
   "outputs": [
    {
     "name": "stdout",
     "output_type": "stream",
     "text": [
      "The digit is 6\n"
     ]
    }
   ],
   "source": [
    "pred_single = classifier.predict(test_set_x.T[200].reshape(784, 1))\n",
    "print(\"The digit is \" + str(pred_single[0]))"
   ]
  },
  {
   "cell_type": "code",
   "execution_count": null,
   "metadata": {},
   "outputs": [],
   "source": []
  }
 ],
 "metadata": {
  "kernelspec": {
   "display_name": "Python 3",
   "language": "python",
   "name": "python3"
  },
  "language_info": {
   "codemirror_mode": {
    "name": "ipython",
    "version": 3
   },
   "file_extension": ".py",
   "mimetype": "text/x-python",
   "name": "python",
   "nbconvert_exporter": "python",
   "pygments_lexer": "ipython3",
   "version": "3.8.5"
  }
 },
 "nbformat": 4,
 "nbformat_minor": 5
}
